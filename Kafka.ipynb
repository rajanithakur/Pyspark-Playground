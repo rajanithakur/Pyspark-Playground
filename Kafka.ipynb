#Read Kafka Messages using KafkaConsumer and print on console
import findspark
findspark.init()
import pyspark
import sys

from pyspark import SparkContext
from pyspark.streaming import StreamingContext
from pyspark.streaming.kafka import KafkaUtils

from pyspark.sql import SparkSession
from pyspark.context import SparkContext
import os

from kafka import KafkaConsumer

consumer = KafkaConsumer('sp_p13n_request_logs', bootstrap_servers=['kafka-1173818850-15-1268604082.scus.kafka-v2-sp-ad-server-prod.ms-df-messaging.prod-az-southcentralus-27.prod.us.walmart.net:9092'])
for msg in consumer:
    print(msg.value)
